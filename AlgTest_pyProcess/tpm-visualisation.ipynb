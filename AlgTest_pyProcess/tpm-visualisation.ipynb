{
 "cells": [
  {
   "cell_type": "markdown",
   "id": "d095d073-e08e-404f-a737-67afbbe1dd7e",
   "metadata": {},
   "source": [
    "# AlgTest Process TPM 2.0 data visualisation"
   ]
  },
  {
   "cell_type": "markdown",
   "id": "e85a8f88-e6fc-4a12-93f4-b9aa5c25d3fd",
   "metadata": {},
   "source": [
    "This is a test for visualisation of html outputs in jupyter notebooks"
   ]
  },
  {
   "cell_type": "markdown",
   "id": "cdd75b0b-0ac1-4b48-8932-745e60cc7d73",
   "metadata": {},
   "source": [
    "## 1. Results\n",
    "First we need to get TPM 2.0 results. Upload a folder with results in the left corner. Make sure your results are zipped and zip has following file structure. Following structure shows possible dir structures of the zip file:\n",
    "\n",
    "```\n",
    "tpmalgtest_results - This folder must be created when extracting\n",
    "│\n",
    "│\n",
    "└───<tpm name>\n",
    "│   │───detail\n",
    "│   │   │─── docker_info.csv\n",
    "│   │   │─── Keygen[_:]RSA_(1024|2048).csv - Important\n",
    "│   │   │─── keygen_*.csv\n",
    "│   │   └─── Quicktest_*.csv\n",
    "│   │───performance\n",
    "│   │   └─── <tpm name>.csv -> Performance result - Important\n",
    "│   └───results\n",
    "│       └─── <tpm name>.csv -> Support result - Important\n",
    "│─── ...\n",
    "│\n",
    "│───<tpm name>\n",
    "│   └───out\n",
    "│       └───detail\n",
    "│       │    │─── docker_info.csv\n",
    "│       │    │─── Keygen_*.csv\n",
    "│       │    │─── keygen_*.csv\n",
    "│       │    └─── Quicktest_*.csv\n",
    "│       │───performance\n",
    "│       │   └─── <tpm name>.csv -> Performance result - Important\n",
    "│       └───results\n",
    "│           └─── <tpm name>.csv -> Support result - Important\n",
    "│─── ...\n",
    "│   \n",
    "└───out.*\n",
    "│   │─── docker_info.csv\n",
    "│   │─── Keygen_*.csv\n",
    "│   │─── keygen_*.csv\n",
    "│   └─── Quicktest_*.csv\n",
    "└─── ...\n",
    "```"
   ]
  },
  {
   "cell_type": "markdown",
   "id": "62811bc2-9588-4b99-943d-125860de8916",
   "metadata": {},
   "source": [
    "### a) Unzipping"
   ]
  },
  {
   "cell_type": "code",
   "execution_count": 1,
   "id": "ab30b50b-b368-46da-a98a-a913a933761f",
   "metadata": {},
   "outputs": [],
   "source": [
    "import zipfile\n",
    "# Fill in the filename\n",
    "FILENAME = \"tpmalgtest_results.zip\"\n",
    "\n",
    "with zipfile.ZipFile(FILENAME,\"r\") as zip_ref:\n",
    "    zip_ref.extractall(\".\")"
   ]
  },
  {
   "cell_type": "markdown",
   "id": "f66e8b96-c4b1-4292-bcd4-6e73861f4692",
   "metadata": {},
   "source": [
    "### b) Parsing results"
   ]
  },
  {
   "cell_type": "code",
   "execution_count": 1,
   "id": "b7f8110c-4e69-4b9f-a995-4dad6fee116f",
   "metadata": {},
   "outputs": [],
   "source": [
    "import pandas as pd\n",
    "import os\n",
    "from algtestprocess.modules.parser.tpm.performance import PerformanceParserTPM\n",
    "from algtestprocess.modules.parser.tpm.support import SupportParserTPM\n",
    "\n",
    "def get_tpm_profiles():\n",
    "    # First we get all the files in the dir\n",
    "    files =[os.path.join(root, file) for root, dirs, files in os.walk(\"./tpmalgtest_results\") for file in files]\n",
    "    # Then we filter performance and support result .csv files\n",
    "    performance = list(filter(lambda name: \"/performance/\" in name and \".csv\" in name, files))\n",
    "    support =  list(filter(lambda name: \"/results/\" in name and \".csv\" in name, files))\n",
    "    rsa_1024 = list(filter(lambda name: all([x in name for x in[\"Keygen\", \"RSA\", \"1024\", \".csv\"]]), files))\n",
    "    rsa_2048 = list(filter(lambda name: all([x in name for x in[\"Keygen\", \"RSA\", \"2048\", \".csv\"]]), files))\n",
    "    \n",
    "    return performance, support, rsa_1024, rsa_2048\n",
    "\n",
    "performance_files, support_files, rsa_1024, rsa_2048 = get_tpm_profiles()\n",
    "\n",
    "# Then we parse each profile with its respective parser\n",
    "performance_profiles = list(map(lambda file: PerformanceParserTPM(file).parse(), performance_files))\n",
    "support_profiles = list(map(lambda file: SupportParserTPM(file).parse(), support_files))\n",
    "\n",
    "# We can filter out profiles without results\n",
    "\n",
    "performance_profiles = list(filter(lambda profile: profile.results, performance_profiles))\n",
    "support_profiles = list(filter(lambda profile: profile.results, support_profiles))\n",
    "rsa1024 = pd.read_csv(rsa_1024[19], header=0, delimiter=\";\")\n"
   ]
  },
  {
   "cell_type": "markdown",
   "id": "1d269794-5a62-4a13-8807-2ef8f97cecb1",
   "metadata": {},
   "source": [
    "### c) Utility functions"
   ]
  },
  {
   "cell_type": "code",
   "execution_count": 3,
   "id": "d091a594-cf97-4e6e-a60f-dc713ce6d141",
   "metadata": {},
   "outputs": [],
   "source": [
    "def choose(data: list[tuple[str, str]]):\n",
    "    print(\"Please choose from these visualisations or write -1 to end\")\n",
    "    for idx, item in enumerate(data):\n",
    "        print(f\"{idx} - {item[0]}\")\n",
    "    \n",
    "    which =  int(input())\n",
    "    \n",
    "    if which == -1:\n",
    "        return\n",
    "    \n",
    "    if which < 0 or which >= len(data):\n",
    "        print(f\"Wrong choice, please choose correctly from range 0 - {len(data)-1} or -1 to end\")\n",
    "        choose(data)\n",
    "        return\n",
    "    \n",
    "    print(f\"Chosen {data[which]}\")\n",
    "    \n",
    "    return IFrame(data[which][1], width=1400, height=900)"
   ]
  },
  {
   "cell_type": "markdown",
   "id": "00de95e3-d353-4aa3-9a9d-eed25d5f0a05",
   "metadata": {},
   "source": [
    "## 2. Visualisations of Support and Performance results"
   ]
  },
  {
   "cell_type": "markdown",
   "id": "cbc46481-0395-44c0-bf52-ac239041ca40",
   "metadata": {},
   "source": [
    "### a) Support table"
   ]
  },
  {
   "cell_type": "code",
   "execution_count": 5,
   "id": "02dd65e3-4edf-42d6-ae3b-6d30129b9880",
   "metadata": {
    "tags": []
   },
   "outputs": [
    {
     "data": {
      "text/html": [
       "\n",
       "        <iframe\n",
       "            width=\"1400\"\n",
       "            height=\"900\"\n",
       "            src=\"./tpmtable.html\"\n",
       "            frameborder=\"0\"\n",
       "            allowfullscreen\n",
       "            \n",
       "        ></iframe>\n",
       "        "
      ],
      "text/plain": [
       "<IPython.lib.display.IFrame at 0x7fd7286c3910>"
      ]
     },
     "execution_count": 5,
     "metadata": {},
     "output_type": "execute_result"
    }
   ],
   "source": [
    "from algtestprocess.modules.pages.support import SupportTPM\n",
    "from IPython.display import IFrame, display, HTML\n",
    "\n",
    "# Now we generate the file\n",
    "# notebook argument means that the function will inline all needed js / css\n",
    "# output path makes the function actually write the html into file\n",
    "html, path = SupportTPM(support_profiles).run(notebook=True, output_path=\".\")\n",
    "\n",
    "# We can view that file using IFrame or manually open it in browser\n",
    "IFrame(path, width=1400, height=900)"
   ]
  },
  {
   "cell_type": "markdown",
   "id": "5621b466-5377-4fd1-956a-cc0ba4238084",
   "metadata": {},
   "source": [
    "### b) Similarity table"
   ]
  },
  {
   "cell_type": "code",
   "execution_count": 6,
   "id": "9e33b9ed-4cbd-44b3-83f0-48c14f76eb8c",
   "metadata": {
    "tags": []
   },
   "outputs": [
    {
     "data": {
      "text/html": [
       "\n",
       "        <iframe\n",
       "            width=\"1400\"\n",
       "            height=\"900\"\n",
       "            src=\"./similarity-table-tpm.html\"\n",
       "            frameborder=\"0\"\n",
       "            allowfullscreen\n",
       "            \n",
       "        ></iframe>\n",
       "        "
      ],
      "text/plain": [
       "<IPython.lib.display.IFrame at 0x7fd72816eb00>"
      ]
     },
     "execution_count": 6,
     "metadata": {},
     "output_type": "execute_result"
    }
   ],
   "source": [
    "from algtestprocess.modules.pages.similarity import SimilarityTPM\n",
    "\n",
    "html, path = SimilarityTPM(performance_profiles).run(notebook=True, output_path=\".\")\n",
    "\n",
    "IFrame(path, width=1400, height=900)"
   ]
  },
  {
   "cell_type": "markdown",
   "id": "c1ba8e7a-30c0-4fa3-be14-c3df8c995090",
   "metadata": {},
   "source": [
    "### c) Radar graphs"
   ]
  },
  {
   "cell_type": "code",
   "execution_count": 7,
   "id": "1e7b26dc-7364-424b-8eb9-9d8a640b9c55",
   "metadata": {},
   "outputs": [],
   "source": [
    "from algtestprocess.modules.pages.radar import RadarTPM\n",
    "\n",
    "# For visualisations which create multiple htmls return list of tuples (name, path)\n",
    "_, data = RadarTPM(performance_profiles).run(notebook=True, output_path=\".\")\n",
    "\n",
    "# Uncomment to visualise radar graphs for TPMs\n",
    "#choose(data)"
   ]
  },
  {
   "cell_type": "markdown",
   "id": "d07e7694-cdb7-46bb-aba3-9dbf9ada11ef",
   "metadata": {
    "tags": []
   },
   "source": [
    "### d) Execution time"
   ]
  },
  {
   "cell_type": "code",
   "execution_count": 8,
   "id": "644ba18b-2365-479d-8596-233629d82a85",
   "metadata": {},
   "outputs": [],
   "source": [
    "from algtestprocess.modules.pages.executiontime import ExecutionTimeTPM\n",
    "\n",
    "_, data = ExecutionTimeTPM(performance_profiles).run(notebook=True, output_path=\".\")\n",
    "\n",
    "# Uncomment to visualise radar graphs for TPMs\n",
    "#choose(data)"
   ]
  },
  {
   "cell_type": "markdown",
   "id": "953546e2-aaef-410a-a08c-17ae7c84f2f1",
   "metadata": {},
   "source": [
    "## 3. Visualisations of RSA keys most significant bytes"
   ]
  },
  {
   "cell_type": "markdown",
   "id": "feb5ea44-97f6-4557-b4c8-483ec2363b49",
   "metadata": {},
   "source": [
    "### a) We compute first bytes of RSA keys"
   ]
  },
  {
   "cell_type": "code",
   "execution_count": 9,
   "id": "e5b426fc-9945-4f28-a0e5-e9c40a42becf",
   "metadata": {},
   "outputs": [],
   "source": [
    "def compute_pqn_bytes(df):\n",
    "    n = list(map(lambda x: int(x, 16), list(df.n)))\n",
    "    p = list(map(lambda x: int(x, 16), list(df.p)))\n",
    "    q = [a // b for a, b in zip(n, p)]\n",
    "\n",
    "    p_byte = [x >> (x.bit_length() - 8) for x in p]\n",
    "    q_byte = [x >> (x.bit_length() - 8) for x in q]\n",
    "    n_byte = [x >> (x.bit_length() - 8) for x in n]\n",
    "    \n",
    "    return p_byte, q_byte, n_byte\n",
    "\n",
    "p, q, n = compute_pqn_bytes(rsa1024)"
   ]
  },
  {
   "cell_type": "markdown",
   "id": "10afd4a4-aab7-4dee-99e3-ed33a939bbf4",
   "metadata": {},
   "source": [
    "### c) We create heatmap"
   ]
  },
  {
   "cell_type": "code",
   "execution_count": 20,
   "id": "f2a84cc0-f7a6-43ec-b809-ab60288a73a0",
   "metadata": {},
   "outputs": [
    {
     "data": {
      "image/png": "[encoded data removed]",
      "text/plain": [
       "<Figure size 576x576 with 3 Axes>"
      ]
     },
     "metadata": {
      "needs_background": "light"
     },
     "output_type": "display_data"
    },
    {
     "data": {
      "image/png": "[encoded data removed]",
      "text/plain": [
       "<Figure size 576x144 with 3 Axes>"
      ]
     },
     "metadata": {
      "needs_background": "light"
     },
     "output_type": "display_data"
    }
   ],
   "source": [
    "import matplotlib\n",
    "import numpy as np\n",
    "import matplotlib.pyplot as plt\n",
    "import matplotlib.gridspec as gridspec\n",
    "\n",
    "info = {\n",
    "    'bit_length': 1024,\n",
    "    'p_byte' : p,\n",
    "    'q_byte' : q,\n",
    "    'n_byte' : n\n",
    "}\n",
    "\n",
    "def annotate_axes(ax, text, fontsize=18):\n",
    "    ax.text(0.5, 0.5, text, transform=ax.transAxes,\n",
    "            ha=\"center\", va=\"center\", fontsize=fontsize, color=\"darkgrey\")\n",
    "\n",
    "def histogram(info):\n",
    "    bit_length = info['bit_length']\n",
    "    p_byte = info['p_byte']\n",
    "    q_byte = info['q_byte']\n",
    "    n_byte = info['n_byte']\n",
    "    record_count = len(p_byte)\n",
    "    p_min = min(p_byte)\n",
    "    p_max = max(p_byte)\n",
    "    q_min = min(q_byte)\n",
    "    q_max = max(q_byte)\n",
    "    n_min = min(n_byte)\n",
    "    n_max = max(n_byte)\n",
    "    \n",
    "    \n",
    "    \n",
    "    left = 0.1\n",
    "    width = 0.65\n",
    "    bottom = 0.1\n",
    "    height = 0.65\n",
    "    spacing = 0\n",
    "    \n",
    "    \n",
    "    rect_heat = [left, bottom, width, height]\n",
    "    rect_histx = [left, bottom + height + spacing, width, 0.2]\n",
    "    rect_histy = [left + width + spacing, bottom, 0.2, height]\n",
    "    \n",
    "    fig = plt.figure(figsize=(8, 8))\n",
    "    \n",
    "    # Add a gridspec with two rows and two columns and a ratio of 2 to 7 between\n",
    "    # the size of the marginal axes and the main axes in both directions.\n",
    "    # Also adjust the subplot parameters for a square plot.\n",
    "    gs = fig.add_gridspec(2, 2,  width_ratios=(7, 2), height_ratios=(2, 7),\n",
    "                      left=0.1, right=0.9, bottom=0.1, top=0.9,\n",
    "                      wspace=0, hspace=0)\n",
    "    \n",
    "    ax1 = fig.add_subplot(gs[1, 0])\n",
    "    ax_histx = fig.add_subplot(gs[0, 0], sharex=ax1)\n",
    "    ax_histy = fig.add_subplot(gs[1, 1], sharey=ax1)\n",
    "    \n",
    "    ax1.hist2d(p_byte, q_byte, bins=(128, 128), cmap=plt.cm.Oranges)\n",
    "    ax1.set_xlabel(\"P\", loc=\"left\")\n",
    "    ax1.set_ylabel(\"Q\", loc=\"bottom\")\n",
    "    \n",
    "    # Position label for P (xaxis)\n",
    "    xlbl = ax1.xaxis.get_label()\n",
    "    x0, y0 = xlbl.get_position()\n",
    "    ax1.xaxis.set_label_coords(x0-0.1, y0-0.175)\n",
    "    \n",
    "    # Position label for Q (yaxis)\n",
    "    ylbl = ax1.yaxis.get_label()\n",
    "    x0, y0 = ylbl.get_position()\n",
    "    ax1.yaxis.set_label_coords(x0-0.1, y0-0.1)\n",
    "    \n",
    "    ax1.vlines(x=p_min, ymin=128, ymax=256, colors='green', ls=\":\", lw=2,  label=\"$P_{min}$ =\" + format(p_min, 'b'))\n",
    "    ax1.vlines(x=p_max, ymin=128, ymax=256, colors='blue', ls=\":\", lw=2,   label=\"$P_{max}$ =\" + format(p_max, 'b'))\n",
    "    ax1.hlines(y=q_min, xmin=128, xmax=256, colors='orange', ls=\":\", lw=2, label=\"$Q_{min}$ =\"+ format(q_min, 'b'))\n",
    "    ax1.hlines(y=q_max, xmin=128, xmax=256, colors='purple', ls=\":\", lw=2, label=\"$Q_{max}$ =\"+ format(q_max, 'b'))\n",
    "    \n",
    "    ax1.plot(np.arange(128, 256), np.arange(128, 256), 'skyblue', linestyle=':', marker='', lw=2, label=\"P=Q\")\n",
    "    \n",
    "    # Show legend\n",
    "    ax1.legend(loc='lower left')\n",
    "    \n",
    "    \n",
    "    # Set the ticks in binary form\n",
    "    ticks = list(range(128, 256, 8)) + [255]\n",
    "    ax1.set_xticks(ticks)\n",
    "    ax1.set_yticks(ticks)\n",
    "    ax1.set_xticklabels(list(map(lambda num: format(num, \"b\"), ticks)), rotation='vertical')\n",
    "    ax1.set_yticklabels(list(map(lambda num: format(num, \"b\"), ticks)))\n",
    "    \n",
    "    \n",
    "    # Add histograms for P and Q\n",
    "    bins = np.arange(128, 256, 1)\n",
    "    ax_histx.hist(p_byte, bins=bins,color = \"black\", ec=\"white\")\n",
    "    ax_histy.hist(q_byte, bins=bins, orientation='horizontal',color=\"black\", ec =\"white\")\n",
    "    \n",
    "    # Turn off their axes\n",
    "    ax_histx.set_axis_off()\n",
    "    ax_histy.set_axis_off()\n",
    "    \n",
    "    fig = plt.figure(figsize=(8,2))\n",
    "    gs = fig.add_gridspec(5, 6)\n",
    "\n",
    "    p_dens = fig.add_subplot(gs[0:2, 0:2])\n",
    "    q_dens = fig.add_subplot(gs[3:, 0:2])\n",
    "    n_dens = fig.add_subplot(gs[:, 2:8])\n",
    "    \n",
    "    \n",
    "    p_dens.hist(p_byte, bins=bins, color = \"black\", histtype='stepfilled')\n",
    "    q_dens.hist(q_byte, bins=bins, color=\"black\", histtype='stepfilled')\n",
    "    n_dens.hist(q_byte, bins=bins, color=\"black\", histtype='stepfilled')\n",
    "    \n",
    "    p_dens.set_xticks([128,256])\n",
    "    p_dens.set_yticks([])\n",
    "    \n",
    "    q_dens.set_xticks([128,256])\n",
    "    q_dens.set_yticks([])\n",
    "    \n",
    "    n_dens.set_xticks([128,256])\n",
    "    n_dens.set_yticks([])\n",
    "    \n",
    "    plt.show()\n",
    "\n",
    "histogram(info)"
   ]
  }
 ],
 "metadata": {
  "kernelspec": {
   "display_name": "Python 3 (ipykernel)",
   "language": "python",
   "name": "python3"
  },
  "language_info": {
   "codemirror_mode": {
    "name": "ipython",
    "version": 3
   },
   "file_extension": ".py",
   "mimetype": "text/x-python",
   "name": "python",
   "nbconvert_exporter": "python",
   "pygments_lexer": "ipython3",
   "version": "3.10.4"
  }
 },
 "nbformat": 4,
 "nbformat_minor": 5
}
