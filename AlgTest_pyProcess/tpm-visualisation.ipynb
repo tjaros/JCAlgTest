{
 "cells": [
  {
   "cell_type": "markdown",
   "id": "d095d073-e08e-404f-a737-67afbbe1dd7e",
   "metadata": {},
   "source": [
    "# AlgTest Process TPM 2.0 data visualisation"
   ]
  },
  {
   "cell_type": "markdown",
   "id": "e85a8f88-e6fc-4a12-93f4-b9aa5c25d3fd",
   "metadata": {},
   "source": [
    "This is a test for visualisation of html outputs in jupyter notebooks"
   ]
  },
  {
   "cell_type": "markdown",
   "id": "cdd75b0b-0ac1-4b48-8932-745e60cc7d73",
   "metadata": {},
   "source": [
    "## 1. Results\n",
    "First we need to get TPM 2.0 results. Upload a folder with results in the left corner. Make sure your results are zipped and zip has following file structure. Following structure shows possible dir structures of the zip file:\n",
    "\n",
    "```\n",
    "tpmalgtest_results - This folder must be created when extracting\n",
    "│\n",
    "│\n",
    "└───<tpm name>\n",
    "│   │───detail\n",
    "│   │   │─── docker_info.csv\n",
    "│   │   │─── Keygen_*.csv\n",
    "│   │   │─── keygen_*.csv\n",
    "│   │   └─── Quicktest_*.csv\n",
    "│   │───performance\n",
    "│   │   └─── <tpm name>.csv -> Performance result - Important\n",
    "│   └───results\n",
    "│       └─── <tpm name>.csv -> Support result - Important\n",
    "│─── ...\n",
    "│\n",
    "│───<tpm name>\n",
    "│   └───out\n",
    "│       └───detail\n",
    "│       │    │─── docker_info.csv\n",
    "│       │    │─── Keygen_*.csv\n",
    "│       │    │─── keygen_*.csv\n",
    "│       │    └─── Quicktest_*.csv\n",
    "│       │───performance\n",
    "│       │   └─── <tpm name>.csv -> Performance result - Important\n",
    "│       └───results\n",
    "│           └─── <tpm name>.csv -> Support result - Important\n",
    "│─── ...\n",
    "│   \n",
    "└───out.*\n",
    "│   │─── docker_info.csv\n",
    "│   │─── Keygen_*.csv\n",
    "│   │─── keygen_*.csv\n",
    "│   └─── Quicktest_*.csv\n",
    "└─── ...\n",
    "```"
   ]
  },
  {
   "cell_type": "markdown",
   "id": "62811bc2-9588-4b99-943d-125860de8916",
   "metadata": {},
   "source": [
    "### a) Unzipping"
   ]
  },
  {
   "cell_type": "code",
   "execution_count": 1,
   "id": "ab30b50b-b368-46da-a98a-a913a933761f",
   "metadata": {},
   "outputs": [],
   "source": [
    "import zipfile\n",
    "# Fill in the filename\n",
    "FILENAME = \"tpmalgtest_results.zip\"\n",
    "\n",
    "with zipfile.ZipFile(FILENAME,\"r\") as zip_ref:\n",
    "    zip_ref.extractall(\".\")"
   ]
  },
  {
   "cell_type": "markdown",
   "id": "f66e8b96-c4b1-4292-bcd4-6e73861f4692",
   "metadata": {},
   "source": [
    "### b) Parsing results"
   ]
  },
  {
   "cell_type": "code",
   "execution_count": 2,
   "id": "b7f8110c-4e69-4b9f-a995-4dad6fee116f",
   "metadata": {},
   "outputs": [],
   "source": [
    "import os\n",
    "from algtestprocess.modules.parser.tpm.performance import PerformanceParserTPM\n",
    "from algtestprocess.modules.parser.tpm.support import SupportParserTPM\n",
    "\n",
    "def get_tpm_profiles():\n",
    "    # First we get all the files in the dir\n",
    "    files =[os.path.join(root, file) for root, dirs, files in os.walk(\"./tpmalgtest_results\") for file in files]\n",
    "    # Then we filter performance and support result .csv files\n",
    "    performance = list(filter(lambda name: \"/performance/\" in name and \".csv\" in name, files))\n",
    "    support =  list(filter(lambda name: \"/results/\" in name and \".csv\" in name, files))\n",
    "    return performance, support\n",
    "\n",
    "performance_files, support_files = get_tpm_profiles()\n",
    "\n",
    "# Then we parse each profile with its respective parser\n",
    "performance_profiles = list(map(lambda file: PerformanceParserTPM(file).parse(), performance_files))\n",
    "support_profiles = list(map(lambda file: SupportParserTPM(file).parse(), support_files))\n",
    "\n",
    "# We can filter out profiles without results\n",
    "\n",
    "performance_profiles = list(filter(lambda profile: profile.results, performance_profiles))\n",
    "support_profiles = list(filter(lambda profile: profile.results, support_profiles))\n"
   ]
  },
  {
   "cell_type": "markdown",
   "id": "1d269794-5a62-4a13-8807-2ef8f97cecb1",
   "metadata": {},
   "source": [
    "### c) Utility functions"
   ]
  },
  {
   "cell_type": "code",
   "execution_count": 3,
   "id": "d091a594-cf97-4e6e-a60f-dc713ce6d141",
   "metadata": {},
   "outputs": [],
   "source": [
    "def choose(data: list[tuple[str, str]]):\n",
    "    print(\"Please choose from these visualisations or write -1 to end\")\n",
    "    for idx, item in enumerate(data):\n",
    "        print(f\"{idx} - {item[0]}\")\n",
    "    \n",
    "    which =  int(input())\n",
    "    \n",
    "    if which == -1:\n",
    "        return\n",
    "    \n",
    "    if which < 0 or which >= len(data):\n",
    "        print(f\"Wrong choice, please choose correctly from range 0 - {len(data)-1} or -1 to end\")\n",
    "        choose(data)\n",
    "        return\n",
    "    \n",
    "    print(f\"Chosen {data[which]}\")\n",
    "    \n",
    "    return IFrame(data[which][1], width=1400, height=900)"
   ]
  },
  {
   "cell_type": "markdown",
   "id": "00de95e3-d353-4aa3-9a9d-eed25d5f0a05",
   "metadata": {},
   "source": [
    "## 2. Visualisations"
   ]
  },
  {
   "cell_type": "markdown",
   "id": "cbc46481-0395-44c0-bf52-ac239041ca40",
   "metadata": {},
   "source": [
    "### a) Support table"
   ]
  },
  {
   "cell_type": "code",
   "execution_count": 4,
   "id": "02dd65e3-4edf-42d6-ae3b-6d30129b9880",
   "metadata": {},
   "outputs": [
    {
     "data": {
      "text/html": [
       "\n",
       "        <iframe\n",
       "            width=\"1400\"\n",
       "            height=\"900\"\n",
       "            src=\"./tpmtable.html\"\n",
       "            frameborder=\"0\"\n",
       "            allowfullscreen\n",
       "            \n",
       "        ></iframe>\n",
       "        "
      ],
      "text/plain": [
       "<IPython.lib.display.IFrame at 0x7f7f702150c0>"
      ]
     },
     "execution_count": 4,
     "metadata": {},
     "output_type": "execute_result"
    }
   ],
   "source": [
    "from algtestprocess.modules.pages.support import SupportTPM\n",
    "from IPython.display import IFrame, display, HTML\n",
    "\n",
    "# Now we generate the file\n",
    "# notebook argument means that the function will inline all needed js / css\n",
    "# output path makes the function actually write the html into file\n",
    "html, path = SupportTPM(support_profiles).run(notebook=True, output_path=\".\")\n",
    "\n",
    "# We can view that file using IFrame or manually open it in browser\n",
    "IFrame(path, width=1400, height=900)"
   ]
  },
  {
   "cell_type": "markdown",
   "id": "5621b466-5377-4fd1-956a-cc0ba4238084",
   "metadata": {},
   "source": [
    "### b) Similarity table"
   ]
  },
  {
   "cell_type": "code",
   "execution_count": 5,
   "id": "9e33b9ed-4cbd-44b3-83f0-48c14f76eb8c",
   "metadata": {},
   "outputs": [
    {
     "data": {
      "text/html": [
       "\n",
       "        <iframe\n",
       "            width=\"1400\"\n",
       "            height=\"900\"\n",
       "            src=\"./similarity-table-tpm.html\"\n",
       "            frameborder=\"0\"\n",
       "            allowfullscreen\n",
       "            \n",
       "        ></iframe>\n",
       "        "
      ],
      "text/plain": [
       "<IPython.lib.display.IFrame at 0x7f7f61122830>"
      ]
     },
     "execution_count": 5,
     "metadata": {},
     "output_type": "execute_result"
    }
   ],
   "source": [
    "from algtestprocess.modules.pages.similarity import SimilarityTPM\n",
    "\n",
    "html, path = SimilarityTPM(performance_profiles).run(notebook=True, output_path=\".\")\n",
    "\n",
    "IFrame(path, width=1400, height=900)"
   ]
  },
  {
   "cell_type": "markdown",
   "id": "c1ba8e7a-30c0-4fa3-be14-c3df8c995090",
   "metadata": {},
   "source": [
    "### c) Radar graphs"
   ]
  },
  {
   "cell_type": "code",
   "execution_count": 6,
   "id": "1e7b26dc-7364-424b-8eb9-9d8a640b9c55",
   "metadata": {},
   "outputs": [],
   "source": [
    "from algtestprocess.modules.pages.radar import RadarTPM\n",
    "\n",
    "# For visualisations which create multiple htmls return list of tuples (name, path)\n",
    "_, data = RadarTPM(performance_profiles).run(notebook=True, output_path=\".\")\n",
    "\n",
    "# Uncomment to visualise radar graphs for TPMs\n",
    "#choose(data)"
   ]
  },
  {
   "cell_type": "markdown",
   "id": "d07e7694-cdb7-46bb-aba3-9dbf9ada11ef",
   "metadata": {},
   "source": [
    "### d) Execution time"
   ]
  },
  {
   "cell_type": "code",
   "execution_count": 8,
   "id": "644ba18b-2365-479d-8596-233629d82a85",
   "metadata": {},
   "outputs": [],
   "source": [
    "from algtestprocess.modules.pages.executiontime import ExecutionTimeTPM\n",
    "\n",
    "_, data = ExecutionTimeTPM(performance_profiles).run(notebook=True, output_path=\".\")\n",
    "\n",
    "# Uncomment to visualise radar graphs for TPMs\n",
    "#choose(data)"
   ]
  }
 ],
 "metadata": {
  "kernelspec": {
   "display_name": "Python 3 (ipykernel)",
   "language": "python",
   "name": "python3"
  },
  "language_info": {
   "codemirror_mode": {
    "name": "ipython",
    "version": 3
   },
   "file_extension": ".py",
   "mimetype": "text/x-python",
   "name": "python",
   "nbconvert_exporter": "python",
   "pygments_lexer": "ipython3",
   "version": "3.10.4"
  }
 },
 "nbformat": 4,
 "nbformat_minor": 5
}
